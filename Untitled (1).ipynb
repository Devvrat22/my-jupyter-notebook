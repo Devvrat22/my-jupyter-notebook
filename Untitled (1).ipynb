{
 "cells": [
  {
   "cell_type": "markdown",
   "id": "d2aca3eb-0ac3-4110-a00e-1236ec5d5d69",
   "metadata": {},
   "source": [
    "My jupyter notebook on skills lab"
   ]
  },
  {
   "cell_type": "markdown",
   "id": "44c47f33-7081-4e35-b5d2-170a47d45799",
   "metadata": {},
   "source": [
    "My name is devvrat modi"
   ]
  },
  {
   "cell_type": "markdown",
   "id": "9e9c6d87-f247-40fd-ba95-f6fa5bcdeec4",
   "metadata": {},
   "source": [
    "I am interested in data science because it is a challenging and interesting field"
   ]
  },
  {
   "cell_type": "markdown",
   "id": "b217fb0b-4553-4b11-89d2-1b17c41106b0",
   "metadata": {},
   "source": [
    "My code is supposed to multiply two numbers"
   ]
  },
  {
   "cell_type": "code",
   "execution_count": 1,
   "id": "3993d955-3e89-4cc6-b2ff-418e73750e77",
   "metadata": {},
   "outputs": [
    {
     "name": "stdout",
     "output_type": "stream",
     "text": [
      "6\n"
     ]
    }
   ],
   "source": [
    "a=2\n",
    "b=3\n",
    "c=a*b\n",
    "print(c)"
   ]
  },
  {
   "cell_type": "code",
   "execution_count": null,
   "id": "b7f120b1-4217-4213-b6b8-e421862af651",
   "metadata": {},
   "outputs": [],
   "source": []
  }
 ],
 "metadata": {
  "kernelspec": {
   "display_name": "Python",
   "language": "python",
   "name": "conda-env-python-py"
  },
  "language_info": {
   "codemirror_mode": {
    "name": "ipython",
    "version": 3
   },
   "file_extension": ".py",
   "mimetype": "text/x-python",
   "name": "python",
   "nbconvert_exporter": "python",
   "pygments_lexer": "ipython3",
   "version": "3.7.12"
  },
  "toc-autonumbering": true
 },
 "nbformat": 4,
 "nbformat_minor": 5
}
